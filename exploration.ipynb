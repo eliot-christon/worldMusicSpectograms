{
 "cells": [
  {
   "cell_type": "markdown",
   "metadata": {},
   "source": [
    "In this notebook, the dataset will be explored and visualized."
   ]
  },
  {
   "cell_type": "code",
   "execution_count": 1,
   "metadata": {},
   "outputs": [],
   "source": [
    "import pandas as pd\n",
    "import numpy as np\n",
    "import matplotlib.pyplot as plt"
   ]
  },
  {
   "cell_type": "code",
   "execution_count": 2,
   "metadata": {},
   "outputs": [
    {
     "data": {
      "text/html": [
       "<div>\n",
       "<style scoped>\n",
       "    .dataframe tbody tr th:only-of-type {\n",
       "        vertical-align: middle;\n",
       "    }\n",
       "\n",
       "    .dataframe tbody tr th {\n",
       "        vertical-align: top;\n",
       "    }\n",
       "\n",
       "    .dataframe thead th {\n",
       "        text-align: right;\n",
       "    }\n",
       "</style>\n",
       "<table border=\"1\" class=\"dataframe\">\n",
       "  <thead>\n",
       "    <tr style=\"text-align: right;\">\n",
       "      <th></th>\n",
       "      <th>min_spectro_db</th>\n",
       "      <th>max_spectro_db</th>\n",
       "      <th>filename</th>\n",
       "    </tr>\n",
       "  </thead>\n",
       "  <tbody>\n",
       "    <tr>\n",
       "      <th>0</th>\n",
       "      <td>-34.441788</td>\n",
       "      <td>45.558212</td>\n",
       "      <td>Liborio Conti - Bossanova.mp3</td>\n",
       "    </tr>\n",
       "    <tr>\n",
       "      <th>1</th>\n",
       "      <td>-34.212080</td>\n",
       "      <td>45.787920</td>\n",
       "      <td>Liborio Conti - Bossanova.mp3</td>\n",
       "    </tr>\n",
       "    <tr>\n",
       "      <th>2</th>\n",
       "      <td>-34.090860</td>\n",
       "      <td>45.909140</td>\n",
       "      <td>Liborio Conti - Bossanova.mp3</td>\n",
       "    </tr>\n",
       "    <tr>\n",
       "      <th>3</th>\n",
       "      <td>-34.114132</td>\n",
       "      <td>45.885868</td>\n",
       "      <td>Liborio Conti - Bossanova.mp3</td>\n",
       "    </tr>\n",
       "    <tr>\n",
       "      <th>4</th>\n",
       "      <td>-30.497177</td>\n",
       "      <td>49.502823</td>\n",
       "      <td>Liborio Conti - Bossanova.mp3</td>\n",
       "    </tr>\n",
       "  </tbody>\n",
       "</table>\n",
       "</div>"
      ],
      "text/plain": [
       "   min_spectro_db  max_spectro_db                       filename\n",
       "0      -34.441788       45.558212  Liborio Conti - Bossanova.mp3\n",
       "1      -34.212080       45.787920  Liborio Conti - Bossanova.mp3\n",
       "2      -34.090860       45.909140  Liborio Conti - Bossanova.mp3\n",
       "3      -34.114132       45.885868  Liborio Conti - Bossanova.mp3\n",
       "4      -30.497177       49.502823  Liborio Conti - Bossanova.mp3"
      ]
     },
     "execution_count": 2,
     "metadata": {},
     "output_type": "execute_result"
    }
   ],
   "source": [
    "clips_df = pd.read_csv('data/clips.csv', index_col=0)\n",
    "clips_df.head()"
   ]
  },
  {
   "cell_type": "code",
   "execution_count": 3,
   "metadata": {},
   "outputs": [
    {
     "data": {
      "text/html": [
       "<div>\n",
       "<style scoped>\n",
       "    .dataframe tbody tr th:only-of-type {\n",
       "        vertical-align: middle;\n",
       "    }\n",
       "\n",
       "    .dataframe tbody tr th {\n",
       "        vertical-align: top;\n",
       "    }\n",
       "\n",
       "    .dataframe thead th {\n",
       "        text-align: right;\n",
       "    }\n",
       "</style>\n",
       "<table border=\"1\" class=\"dataframe\">\n",
       "  <thead>\n",
       "    <tr style=\"text-align: right;\">\n",
       "      <th></th>\n",
       "      <th>filename</th>\n",
       "      <th>genre</th>\n",
       "      <th>region</th>\n",
       "      <th>country</th>\n",
       "      <th>duration</th>\n",
       "      <th>sample_rate</th>\n",
       "      <th>index_start</th>\n",
       "      <th>index_end</th>\n",
       "    </tr>\n",
       "  </thead>\n",
       "  <tbody>\n",
       "    <tr>\n",
       "      <th>0</th>\n",
       "      <td>Liborio Conti - Bossanova.mp3</td>\n",
       "      <td>bossanova</td>\n",
       "      <td>NaN</td>\n",
       "      <td>Brasil</td>\n",
       "      <td>222.000000</td>\n",
       "      <td>48000.0</td>\n",
       "      <td>0.0</td>\n",
       "      <td>21.0</td>\n",
       "    </tr>\n",
       "    <tr>\n",
       "      <th>1</th>\n",
       "      <td>Liborio Conti - Salsa.mp3</td>\n",
       "      <td>salsa</td>\n",
       "      <td>NaN</td>\n",
       "      <td>Cuba</td>\n",
       "      <td>170.057370</td>\n",
       "      <td>44100.0</td>\n",
       "      <td>22.0</td>\n",
       "      <td>38.0</td>\n",
       "    </tr>\n",
       "    <tr>\n",
       "      <th>2</th>\n",
       "      <td>IR - Eleanor na Run.mp3</td>\n",
       "      <td>irish</td>\n",
       "      <td>NaN</td>\n",
       "      <td>Ireland</td>\n",
       "      <td>199.945964</td>\n",
       "      <td>44100.0</td>\n",
       "      <td>39.0</td>\n",
       "      <td>57.0</td>\n",
       "    </tr>\n",
       "    <tr>\n",
       "      <th>3</th>\n",
       "      <td>IR - Maudabawn Chapel.mp3</td>\n",
       "      <td>irish</td>\n",
       "      <td>NaN</td>\n",
       "      <td>Ireland</td>\n",
       "      <td>176.784739</td>\n",
       "      <td>44100.0</td>\n",
       "      <td>58.0</td>\n",
       "      <td>74.0</td>\n",
       "    </tr>\n",
       "    <tr>\n",
       "      <th>4</th>\n",
       "      <td>IR - Old Killeavey.mp3</td>\n",
       "      <td>irish</td>\n",
       "      <td>NaN</td>\n",
       "      <td>Ireland</td>\n",
       "      <td>197.029637</td>\n",
       "      <td>44100.0</td>\n",
       "      <td>75.0</td>\n",
       "      <td>93.0</td>\n",
       "    </tr>\n",
       "  </tbody>\n",
       "</table>\n",
       "</div>"
      ],
      "text/plain": [
       "                        filename      genre  region  country    duration  \\\n",
       "0  Liborio Conti - Bossanova.mp3  bossanova     NaN   Brasil  222.000000   \n",
       "1      Liborio Conti - Salsa.mp3      salsa     NaN     Cuba  170.057370   \n",
       "2        IR - Eleanor na Run.mp3      irish     NaN  Ireland  199.945964   \n",
       "3      IR - Maudabawn Chapel.mp3      irish     NaN  Ireland  176.784739   \n",
       "4         IR - Old Killeavey.mp3      irish     NaN  Ireland  197.029637   \n",
       "\n",
       "   sample_rate  index_start  index_end  \n",
       "0      48000.0          0.0       21.0  \n",
       "1      44100.0         22.0       38.0  \n",
       "2      44100.0         39.0       57.0  \n",
       "3      44100.0         58.0       74.0  \n",
       "4      44100.0         75.0       93.0  "
      ]
     },
     "execution_count": 3,
     "metadata": {},
     "output_type": "execute_result"
    }
   ],
   "source": [
    "metadata_df = pd.read_csv('data/metadata.csv')\n",
    "metadata_df.head()"
   ]
  },
  {
   "cell_type": "code",
   "execution_count": 4,
   "metadata": {},
   "outputs": [
    {
     "data": {
      "text/html": [
       "<div>\n",
       "<style scoped>\n",
       "    .dataframe tbody tr th:only-of-type {\n",
       "        vertical-align: middle;\n",
       "    }\n",
       "\n",
       "    .dataframe tbody tr th {\n",
       "        vertical-align: top;\n",
       "    }\n",
       "\n",
       "    .dataframe thead th {\n",
       "        text-align: right;\n",
       "    }\n",
       "</style>\n",
       "<table border=\"1\" class=\"dataframe\">\n",
       "  <thead>\n",
       "    <tr style=\"text-align: right;\">\n",
       "      <th></th>\n",
       "      <th>filename</th>\n",
       "      <th>clip_count</th>\n",
       "    </tr>\n",
       "  </thead>\n",
       "  <tbody>\n",
       "    <tr>\n",
       "      <th>0</th>\n",
       "      <td>JA - Nanae Yoshimura  The Art of Koto Vol 1 - ...</td>\n",
       "      <td>106</td>\n",
       "    </tr>\n",
       "    <tr>\n",
       "      <th>1</th>\n",
       "      <td>JA - Nanae Yoshimura  The Art of Koto Vol 1 - ...</td>\n",
       "      <td>67</td>\n",
       "    </tr>\n",
       "    <tr>\n",
       "      <th>2</th>\n",
       "      <td>JA - Nanae Yoshimura  The Art of Koto Vol 1 - ...</td>\n",
       "      <td>64</td>\n",
       "    </tr>\n",
       "    <tr>\n",
       "      <th>3</th>\n",
       "      <td>JA - Nanae Yoshimura  The Art of Koto Vol 1 - ...</td>\n",
       "      <td>46</td>\n",
       "    </tr>\n",
       "    <tr>\n",
       "      <th>4</th>\n",
       "      <td>JA - quatuor.mp3</td>\n",
       "      <td>42</td>\n",
       "    </tr>\n",
       "  </tbody>\n",
       "</table>\n",
       "</div>"
      ],
      "text/plain": [
       "                                            filename  clip_count\n",
       "0  JA - Nanae Yoshimura  The Art of Koto Vol 1 - ...         106\n",
       "1  JA - Nanae Yoshimura  The Art of Koto Vol 1 - ...          67\n",
       "2  JA - Nanae Yoshimura  The Art of Koto Vol 1 - ...          64\n",
       "3  JA - Nanae Yoshimura  The Art of Koto Vol 1 - ...          46\n",
       "4                                   JA - quatuor.mp3          42"
      ]
     },
     "execution_count": 4,
     "metadata": {},
     "output_type": "execute_result"
    }
   ],
   "source": [
    "# build the audio count dataframe from the clips dataframe column 'filename'\n",
    "audio_count_df = clips_df['filename'].value_counts().reset_index()\n",
    "audio_count_df.columns = ['filename', 'clip_count']\n",
    "audio_count_df.head()"
   ]
  },
  {
   "cell_type": "code",
   "execution_count": 5,
   "metadata": {},
   "outputs": [
    {
     "data": {
      "text/html": [
       "<div>\n",
       "<style scoped>\n",
       "    .dataframe tbody tr th:only-of-type {\n",
       "        vertical-align: middle;\n",
       "    }\n",
       "\n",
       "    .dataframe tbody tr th {\n",
       "        vertical-align: top;\n",
       "    }\n",
       "\n",
       "    .dataframe thead th {\n",
       "        text-align: right;\n",
       "    }\n",
       "</style>\n",
       "<table border=\"1\" class=\"dataframe\">\n",
       "  <thead>\n",
       "    <tr style=\"text-align: right;\">\n",
       "      <th></th>\n",
       "      <th>filename</th>\n",
       "      <th>clip_count</th>\n",
       "      <th>genre</th>\n",
       "      <th>region</th>\n",
       "      <th>country</th>\n",
       "      <th>duration</th>\n",
       "      <th>sample_rate</th>\n",
       "      <th>index_start</th>\n",
       "      <th>index_end</th>\n",
       "    </tr>\n",
       "  </thead>\n",
       "  <tbody>\n",
       "    <tr>\n",
       "      <th>0</th>\n",
       "      <td>JA - Nanae Yoshimura  The Art of Koto Vol 1 - ...</td>\n",
       "      <td>106</td>\n",
       "      <td>japanese</td>\n",
       "      <td>NaN</td>\n",
       "      <td>Japan</td>\n",
       "      <td>1062.779841</td>\n",
       "      <td>44100.0</td>\n",
       "      <td>364.0</td>\n",
       "      <td>469.0</td>\n",
       "    </tr>\n",
       "    <tr>\n",
       "      <th>1</th>\n",
       "      <td>JA - Nanae Yoshimura  The Art of Koto Vol 1 - ...</td>\n",
       "      <td>67</td>\n",
       "      <td>japanese</td>\n",
       "      <td>NaN</td>\n",
       "      <td>Japan</td>\n",
       "      <td>670.603515</td>\n",
       "      <td>44100.0</td>\n",
       "      <td>151.0</td>\n",
       "      <td>217.0</td>\n",
       "    </tr>\n",
       "    <tr>\n",
       "      <th>2</th>\n",
       "      <td>JA - Nanae Yoshimura  The Art of Koto Vol 1 - ...</td>\n",
       "      <td>64</td>\n",
       "      <td>japanese</td>\n",
       "      <td>NaN</td>\n",
       "      <td>Japan</td>\n",
       "      <td>645.055760</td>\n",
       "      <td>44100.0</td>\n",
       "      <td>218.0</td>\n",
       "      <td>281.0</td>\n",
       "    </tr>\n",
       "    <tr>\n",
       "      <th>3</th>\n",
       "      <td>JA - Nanae Yoshimura  The Art of Koto Vol 1 - ...</td>\n",
       "      <td>46</td>\n",
       "      <td>japanese</td>\n",
       "      <td>NaN</td>\n",
       "      <td>Japan</td>\n",
       "      <td>467.370862</td>\n",
       "      <td>44100.0</td>\n",
       "      <td>282.0</td>\n",
       "      <td>327.0</td>\n",
       "    </tr>\n",
       "    <tr>\n",
       "      <th>4</th>\n",
       "      <td>JA - quatuor.mp3</td>\n",
       "      <td>42</td>\n",
       "      <td>japanese</td>\n",
       "      <td>NaN</td>\n",
       "      <td>Japan</td>\n",
       "      <td>429.362698</td>\n",
       "      <td>44100.0</td>\n",
       "      <td>470.0</td>\n",
       "      <td>511.0</td>\n",
       "    </tr>\n",
       "  </tbody>\n",
       "</table>\n",
       "</div>"
      ],
      "text/plain": [
       "                                            filename  clip_count     genre  \\\n",
       "0  JA - Nanae Yoshimura  The Art of Koto Vol 1 - ...         106  japanese   \n",
       "1  JA - Nanae Yoshimura  The Art of Koto Vol 1 - ...          67  japanese   \n",
       "2  JA - Nanae Yoshimura  The Art of Koto Vol 1 - ...          64  japanese   \n",
       "3  JA - Nanae Yoshimura  The Art of Koto Vol 1 - ...          46  japanese   \n",
       "4                                   JA - quatuor.mp3          42  japanese   \n",
       "\n",
       "   region country     duration  sample_rate  index_start  index_end  \n",
       "0     NaN   Japan  1062.779841      44100.0        364.0      469.0  \n",
       "1     NaN   Japan   670.603515      44100.0        151.0      217.0  \n",
       "2     NaN   Japan   645.055760      44100.0        218.0      281.0  \n",
       "3     NaN   Japan   467.370862      44100.0        282.0      327.0  \n",
       "4     NaN   Japan   429.362698      44100.0        470.0      511.0  "
      ]
     },
     "execution_count": 5,
     "metadata": {},
     "output_type": "execute_result"
    }
   ],
   "source": [
    "# now associate each audio with its corresponding metadata\n",
    "new_metadata_df = pd.merge(audio_count_df, metadata_df, left_on='filename', right_on='filename')\n",
    "new_metadata_df.head()"
   ]
  },
  {
   "cell_type": "code",
   "execution_count": 6,
   "metadata": {},
   "outputs": [],
   "source": [
    "def plot_bar(dataframe, xlabel, ylabel):\n",
    "    xdata = dataframe[xlabel]\n",
    "    ydata = dataframe[ylabel]\n",
    "    for i in range(len(xdata)):\n",
    "        plt.bar(xdata[i], ydata[i])\n",
    "        plt.text(i, ydata[i], ydata[i], ha='center', va='bottom')\n",
    "    plt.xlabel(xlabel)\n",
    "    plt.ylabel(ylabel)\n",
    "    plt.xticks(rotation=90)\n",
    "    plt.grid(axis='y', alpha=0.3)\n",
    "    plt.title(f'{ylabel} by {xlabel}')\n",
    "    plt.show()"
   ]
  },
  {
   "cell_type": "code",
   "execution_count": 7,
   "metadata": {},
   "outputs": [
    {
     "data": {
      "image/png": "[encoded data removed]",
      "text/plain": [
       "<Figure size 640x480 with 1 Axes>"
      ]
     },
     "metadata": {},
     "output_type": "display_data"
    }
   ],
   "source": [
    "# country clip count (sum of count column)\n",
    "country_clip_count = new_metadata_df.groupby('country')['clip_count'].sum().reset_index()\n",
    "country_clip_count = country_clip_count.sort_values('clip_count', ascending=False).reset_index(drop=True)\n",
    "\n",
    "plot_bar(country_clip_count, 'country', 'clip_count')"
   ]
  },
  {
   "cell_type": "code",
   "execution_count": 8,
   "metadata": {},
   "outputs": [
    {
     "data": {
      "image/png": "[encoded data removed]",
      "text/plain": [
       "<Figure size 640x480 with 1 Axes>"
      ]
     },
     "metadata": {},
     "output_type": "display_data"
    }
   ],
   "source": [
    "# genre clip count (sum of count column)\n",
    "genre_clip_count = new_metadata_df.groupby('genre')['clip_count'].sum().reset_index()\n",
    "genre_clip_count = genre_clip_count.sort_values('clip_count', ascending=False).reset_index(drop=True)\n",
    "\n",
    "plot_bar(genre_clip_count, 'genre', 'clip_count')"
   ]
  }
 ],
 "metadata": {
  "kernelspec": {
   "display_name": "base",
   "language": "python",
   "name": "python3"
  },
  "language_info": {
   "codemirror_mode": {
    "name": "ipython",
    "version": 3
   },
   "file_extension": ".py",
   "mimetype": "text/x-python",
   "name": "python",
   "nbconvert_exporter": "python",
   "pygments_lexer": "ipython3",
   "version": "3.9.13"
  }
 },
 "nbformat": 4,
 "nbformat_minor": 2
}
